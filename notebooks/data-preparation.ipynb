{
 "cells": [
  {
   "cell_type": "code",
   "execution_count": 16,
   "id": "18eb1257",
   "metadata": {},
   "outputs": [],
   "source": [
    "import os\n",
    "from pdf2image import convert_from_path\n",
    "from PIL import Image\n",
    "\n",
    "# Set the max pixel count for Pillow\n",
    "Image.MAX_IMAGE_PIXELS = 100000000\n",
    "\n",
    "# Create a list with the names of the files in the folder\n",
    "files = os.listdir('../raw_data/pdf/')\n",
    "\n",
    "# Remove this file\n",
    "#files.remove(os.path.basename(__file__))\n",
    "\n",
    "# Remove hidden files\n",
    "files_old = files\n",
    "for filename in files_old:\n",
    "    if filename[0] == '.':\n",
    "        files.remove(filename)\n",
    "        \n",
    "# Remove directories\n",
    "#files_new = []\n",
    "#for i in range(len(files)):\n",
    "#    if not os.path.isdir(files[i]):\n",
    "#        files_new.append(files[i])\n",
    "        \n",
    "#files = files_new\n",
    "files = sorted(files)\n",
    "\n",
    "# Convert each file to png and save it\n",
    "for file in files:\n",
    "    images = convert_from_path(f'../raw_data/pdf/{file}', dpi=300, grayscale=True, size=(2160,None))\n",
    "    \n",
    "    # This is a list, so extract just the image\n",
    "    images = images[0]\n",
    "    \n",
    "    # Remove extension\n",
    "    filename = file.split('.')[0]\n",
    "    images.save(filename + '.png')\n",
    "    \n",
    "    # Delete original file\n",
    "    #os.remove(file)"
   ]
  },
  {
   "cell_type": "code",
   "execution_count": null,
   "id": "45b8ab4e",
   "metadata": {},
   "outputs": [],
   "source": []
  }
 ],
 "metadata": {
  "kernelspec": {
   "display_name": "Python 3 (ipykernel)",
   "language": "python",
   "name": "python3"
  },
  "language_info": {
   "codemirror_mode": {
    "name": "ipython",
    "version": 3
   },
   "file_extension": ".py",
   "mimetype": "text/x-python",
   "name": "python",
   "nbconvert_exporter": "python",
   "pygments_lexer": "ipython3",
   "version": "3.8.12"
  },
  "toc": {
   "base_numbering": 1,
   "nav_menu": {},
   "number_sections": true,
   "sideBar": true,
   "skip_h1_title": false,
   "title_cell": "Table of Contents",
   "title_sidebar": "Contents",
   "toc_cell": false,
   "toc_position": {},
   "toc_section_display": true,
   "toc_window_display": false
  }
 },
 "nbformat": 4,
 "nbformat_minor": 5
}
