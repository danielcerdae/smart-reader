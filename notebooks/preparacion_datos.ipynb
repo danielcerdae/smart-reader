{
 "cells": [
  {
   "cell_type": "markdown",
   "id": "57ad457e",
   "metadata": {},
   "source": [
    "# Preparacion de Datos, Cargar PDF y convertir a PNG"
   ]
  },
  {
   "cell_type": "markdown",
   "id": "2454911f",
   "metadata": {},
   "source": [
    "## Importar las sgtes. librerias:"
   ]
  },
  {
   "cell_type": "code",
   "execution_count": null,
   "id": "9511847e",
   "metadata": {},
   "outputs": [],
   "source": [
    "pip install pdf2image #Instalar pdf2image"
   ]
  },
  {
   "cell_type": "code",
   "execution_count": null,
   "id": "bb3e94af",
   "metadata": {},
   "outputs": [],
   "source": [
    "import os\n",
    "from pdf2image import convert_from_path\n",
    "from PIL import Image"
   ]
  },
  {
   "cell_type": "code",
   "execution_count": null,
   "id": "6d4ea605",
   "metadata": {},
   "outputs": [],
   "source": [
    "Image.MAX_IMAGE_PIXELS = 100000000 #Evita error de tamaño de imagen"
   ]
  },
  {
   "cell_type": "code",
   "execution_count": null,
   "id": "1cef7ec1",
   "metadata": {},
   "outputs": [],
   "source": [
    "files = os.listdir('../raw_data/pdf/') #Por modificar mas adelante"
   ]
  },
  {
   "cell_type": "code",
   "execution_count": null,
   "id": "a92ca73c",
   "metadata": {},
   "outputs": [],
   "source": [
    "# Remover archivos ocultos\n",
    "files_old = files\n",
    "for filename in files_old:\n",
    "    if filename[0] == '.':\n",
    "        files.remove(filename)\n",
    "        \n",
    "#ordenar los archivos\n",
    "files = sorted(files)\n",
    "\n",
    " \n"
   ]
  },
  {
   "cell_type": "markdown",
   "id": "0c432973",
   "metadata": {},
   "source": [
    "## Convertir cada archivo PDF a PNG"
   ]
  },
  {
   "cell_type": "code",
   "execution_count": null,
   "id": "8e202708",
   "metadata": {},
   "outputs": [],
   "source": [
    "for file in files:\n",
    "    images = convert_from_path(f'../raw_data/pdf/{file}', dpi=300, grayscale=True, size=(2160,None))\n",
    "    \n",
    "    # Extraer la imagen desde la lista \"image\"\n",
    "    images = images[0]\n",
    "    \n",
    "    # Remover extension y modificar a .png\n",
    "    filename = file.split('.')[0]\n",
    "    images.save(filename + '.png')"
   ]
  }
 ],
 "metadata": {
  "kernelspec": {
   "display_name": "Python 3 (ipykernel)",
   "language": "python",
   "name": "python3"
  },
  "language_info": {
   "codemirror_mode": {
    "name": "ipython",
    "version": 3
   },
   "file_extension": ".py",
   "mimetype": "text/x-python",
   "name": "python",
   "nbconvert_exporter": "python",
   "pygments_lexer": "ipython3",
   "version": "3.8.12"
  },
  "toc": {
   "base_numbering": 1,
   "nav_menu": {},
   "number_sections": true,
   "sideBar": true,
   "skip_h1_title": false,
   "title_cell": "Table of Contents",
   "title_sidebar": "Contents",
   "toc_cell": false,
   "toc_position": {},
   "toc_section_display": true,
   "toc_window_display": false
  }
 },
 "nbformat": 4,
 "nbformat_minor": 5
}
