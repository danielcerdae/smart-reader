{
 "cells": [
  {
   "cell_type": "markdown",
   "id": "c4eaaf9e",
   "metadata": {},
   "source": [
    "# Preparacion de Datos, Cargar PDF y convertir a PNG"
   ]
  },
  {
   "cell_type": "markdown",
   "id": "6f7b8873",
   "metadata": {},
   "source": [
    "## Importar las sgtes. librerias:"
   ]
  },
  {
   "cell_type": "code",
   "execution_count": null,
   "id": "0800cba0",
   "metadata": {},
   "outputs": [],
   "source": [
    "pip install pdf2image #Instalar pdf2image"
   ]
  },
  {
   "cell_type": "code",
   "execution_count": null,
   "id": "7e300c2d",
   "metadata": {},
   "outputs": [],
   "source": [
    "import os\n",
    "from pdf2image import convert_from_path\n",
    "from PIL import Image"
   ]
  },
  {
   "cell_type": "code",
   "execution_count": null,
   "id": "69a150f5",
   "metadata": {},
   "outputs": [],
   "source": [
    "Image.MAX_IMAGE_PIXELS = 100000000 #Evita error de tamaño de imagen"
   ]
  },
  {
   "cell_type": "code",
   "execution_count": null,
   "id": "4a4aa0f3",
   "metadata": {},
   "outputs": [],
   "source": [
    "files = os.listdir('../raw_data/pdf/') #Por modificar mas adelante"
   ]
  },
  {
   "cell_type": "code",
   "execution_count": null,
   "id": "09d336cf",
   "metadata": {},
   "outputs": [],
   "source": [
    "# Remover archivos ocultos\n",
    "files_old = files\n",
    "for filename in files_old:\n",
    "    if filename[0] == '.':\n",
    "        files.remove(filename)\n",
    "        \n",
    "#ordenar los archivos\n",
    "files = sorted(files)\n",
    "\n",
    " \n"
   ]
  },
  {
   "cell_type": "markdown",
   "id": "a4093e59",
   "metadata": {},
   "source": [
    "## Convertir cada archivo PDF a PNG"
   ]
  },
  {
   "cell_type": "code",
   "execution_count": null,
   "id": "e9ab3ffd",
   "metadata": {},
   "outputs": [],
   "source": [
    "for file in files:\n",
    "    images = convert_from_path(f'../raw_data/pdf/{file}', dpi=300, grayscale=True, size=(2160,None))\n",
    "    \n",
    "    # Extraer la imagen desde la lista \"image\"\n",
    "    images = images[0]\n",
    "    \n",
    "    # Remover extension y modificar a .png\n",
    "    filename = file.split('.')[0]\n",
    "    images.save(filename + '.png')"
   ]
  },
  {
   "cell_type": "markdown",
   "id": "4f4e2da0",
   "metadata": {},
   "source": [
    "# Entrenamiento del modelo"
   ]
  },
  {
   "cell_type": "code",
   "execution_count": null,
   "id": "0054087c",
   "metadata": {},
   "outputs": [],
   "source": [
    "#clone YOLOv5 and \n",
    "!git clone https://github.com/ultralytics/yolov5  # clone repo\n",
    "%cd yolov5\n",
    "%pip install -qr requirements.txt # install dependencies\n",
    "%pip install -q roboflow\n",
    "\n",
    "import torch\n",
    "import os\n",
    "from IPython.display import Image, clear_output  # to display images\n",
    "\n",
    "print(f\"Setup complete. Using torch {torch.__version__} ({torch.cuda.get_device_properties(0).name if torch.cuda.is_available() else 'CPU'})\")"
   ]
  }
 ],
 "metadata": {
  "kernelspec": {
   "display_name": "Python 3 (ipykernel)",
   "language": "python",
   "name": "python3"
  },
  "language_info": {
   "codemirror_mode": {
    "name": "ipython",
    "version": 3
   },
   "file_extension": ".py",
   "mimetype": "text/x-python",
   "name": "python",
   "nbconvert_exporter": "python",
   "pygments_lexer": "ipython3",
   "version": "3.8.12"
  },
  "toc": {
   "base_numbering": 1,
   "nav_menu": {},
   "number_sections": true,
   "sideBar": true,
   "skip_h1_title": false,
   "title_cell": "Table of Contents",
   "title_sidebar": "Contents",
   "toc_cell": false,
   "toc_position": {},
   "toc_section_display": true,
   "toc_window_display": false
  }
 },
 "nbformat": 4,
 "nbformat_minor": 5
}
