{
 "cells": [
  {
   "cell_type": "markdown",
   "id": "7d55189b",
   "metadata": {},
   "source": [
    "# Importo las librerias que vamos a utilizar"
   ]
  },
  {
   "cell_type": "code",
   "execution_count": null,
   "id": "cd916ffd",
   "metadata": {},
   "outputs": [],
   "source": [
    "from sahi import AutoDetectionModel\n",
    "from sahi.utils.cv import read_image\n",
    "from sahi.utils.file import download_from_url\n",
    "from sahi.predict import get_prediction, get_sliced_prediction, predict\n",
    "from IPython.display import Image"
   ]
  },
  {
   "cell_type": "markdown",
   "id": "40ed5d21",
   "metadata": {},
   "source": [
    "# Clonar Yolov5 e instalar los requerimientos"
   ]
  },
  {
   "cell_type": "code",
   "execution_count": null,
   "id": "7ebedd17",
   "metadata": {},
   "outputs": [],
   "source": [
    "!git clone https://github.com/ultralytics/yolov5  # clone repo\n",
    "%cd yolov5\n",
    "%pip install -qr requirements.txt # install dependencies\n",
    "%pip install -q roboflow\n",
    "\n",
    "import torch\n",
    "import os\n",
    "from IPython.display import Image, clear_output  # to display images\n",
    "\n",
    "print(f\"Setup complete. Using torch {torch.__version__} ({torch.cuda.get_device_properties(0).name if torch.cuda.is_available() else 'CPU'})\")"
   ]
  },
  {
   "cell_type": "markdown",
   "id": "4233afe3",
   "metadata": {},
   "source": [
    "# Genero el directorio \"dataset\" para guardar los modelos"
   ]
  },
  {
   "cell_type": "code",
   "execution_count": null,
   "id": "986251fa",
   "metadata": {},
   "outputs": [],
   "source": [
    "os.environ[\"DATASET_DIRECTORY\"] = \"/content/datasets\""
   ]
  },
  {
   "cell_type": "markdown",
   "id": "96a082b1",
   "metadata": {},
   "source": [
    "# Instancio los pesos del modelo"
   ]
  },
  {
   "cell_type": "code",
   "execution_count": null,
   "id": "34b351b9",
   "metadata": {},
   "outputs": [],
   "source": [
    "trained_model_path = 'models/yolov5l6.pt'"
   ]
  },
  {
   "cell_type": "markdown",
   "id": "4bf2f4dc",
   "metadata": {},
   "source": [
    "# Corro el modelo con los pesos instanciados"
   ]
  },
  {
   "cell_type": "code",
   "execution_count": null,
   "id": "c0d6ed74",
   "metadata": {},
   "outputs": [],
   "source": [
    "detection_model = AutoDetectionModel.from_pretrained(\n",
    "    model_type=\"yolov5\",\n",
    "    model_path=trained_model_path,\n",
    "    confidence_threshold=0.6,\n",
    "    device=\"cuda:\") # or 'cuda:0'"
   ]
  },
  {
   "cell_type": "markdown",
   "id": "51eaf62d",
   "metadata": {},
   "source": [
    "# Realizo la prediccion y la almaceno en una variable\n",
    "\n",
    "## # Configurar una vez que sepamos como vamos a interactuar con el usuario"
   ]
  },
  {
   "cell_type": "code",
   "execution_count": 2,
   "id": "456b0554",
   "metadata": {},
   "outputs": [],
   "source": [
    "result = get_prediction(\"directorio_donde_guarda_la_imagen\", detection_model) "
   ]
  },
  {
   "cell_type": "markdown",
   "id": "49b39607",
   "metadata": {},
   "source": [
    "# Visualizo las predicciones\n",
    "## Configuarar una vez que sepamos como vamos a interactuar con el usuario"
   ]
  },
  {
   "cell_type": "code",
   "execution_count": null,
   "id": "f4c24d32",
   "metadata": {},
   "outputs": [],
   "source": [
    "result.export_visuals(export_dir=\"directorio_donde_guardo_la_imagen\")"
   ]
  },
  {
   "cell_type": "markdown",
   "id": "daee798c",
   "metadata": {},
   "source": [
    "# Paso el modelo yolov5 a la libreria sahi"
   ]
  },
  {
   "cell_type": "code",
   "execution_count": null,
   "id": "4d611254",
   "metadata": {},
   "outputs": [],
   "source": [
    "result = get_sliced_prediction(\n",
    "    \"nombre_del_directorio_donde_se_encuentra_la_imagen\",\n",
    "    detection_model,\n",
    "    slice_height = 1080,\n",
    "    slice_width = 1080,\n",
    "    overlap_height_ratio = 0.1,\n",
    "    overlap_width_ratio = 0.1\n",
    ")"
   ]
  },
  {
   "cell_type": "markdown",
   "id": "9d71ae60",
   "metadata": {},
   "source": [
    "# Visualizo las predicciones\n",
    "## Configurar una vez que sepamos como vamos a interactuar con el usuario"
   ]
  },
  {
   "cell_type": "code",
   "execution_count": null,
   "id": "eafa0375",
   "metadata": {},
   "outputs": [],
   "source": [
    "result.export_visuals(export_dir=\"directorio_donde_guarde_el_modelo_realizado\")"
   ]
  },
  {
   "cell_type": "markdown",
   "id": "11a64033",
   "metadata": {},
   "source": [
    "# Accedo a las predicciones en forma de lista (con las coordenadas)"
   ]
  },
  {
   "cell_type": "code",
   "execution_count": null,
   "id": "5ebd04d4",
   "metadata": {},
   "outputs": [],
   "source": [
    "object_prediction_list = result.object_prediction_list\n",
    "\n",
    "object_prediction_list[0]"
   ]
  },
  {
   "cell_type": "code",
   "execution_count": null,
   "id": "37a43291",
   "metadata": {},
   "outputs": [],
   "source": []
  },
  {
   "cell_type": "code",
   "execution_count": null,
   "id": "93884573",
   "metadata": {},
   "outputs": [],
   "source": []
  },
  {
   "cell_type": "code",
   "execution_count": null,
   "id": "4a3a30d8",
   "metadata": {},
   "outputs": [],
   "source": []
  }
 ],
 "metadata": {
  "kernelspec": {
   "display_name": "Python 3 (ipykernel)",
   "language": "python",
   "name": "python3"
  },
  "language_info": {
   "codemirror_mode": {
    "name": "ipython",
    "version": 3
   },
   "file_extension": ".py",
   "mimetype": "text/x-python",
   "name": "python",
   "nbconvert_exporter": "python",
   "pygments_lexer": "ipython3",
   "version": "3.8.12"
  },
  "toc": {
   "base_numbering": 1,
   "nav_menu": {},
   "number_sections": true,
   "sideBar": true,
   "skip_h1_title": false,
   "title_cell": "Table of Contents",
   "title_sidebar": "Contents",
   "toc_cell": false,
   "toc_position": {},
   "toc_section_display": true,
   "toc_window_display": false
  }
 },
 "nbformat": 4,
 "nbformat_minor": 5
}
