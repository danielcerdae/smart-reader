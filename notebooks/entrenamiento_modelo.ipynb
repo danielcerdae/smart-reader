{
 "cells": [
  {
   "cell_type": "markdown",
   "id": "0bebc9de",
   "metadata": {},
   "source": [
    "# Entrenamiento del Modelo"
   ]
  },
  {
   "cell_type": "markdown",
   "id": "45c98529",
   "metadata": {},
   "source": [
    "## Instalar Requerimientos"
   ]
  },
  {
   "cell_type": "code",
   "execution_count": 1,
   "id": "ff4f5f45",
   "metadata": {},
   "outputs": [
    {
     "name": "stdout",
     "output_type": "stream",
     "text": [
      "Cloning into 'yolov5'...\n",
      "remote: Enumerating objects: 14419, done.\u001b[K\n",
      "remote: Counting objects: 100% (40/40), done.\u001b[K\n",
      "remote: Compressing objects: 100% (30/30), done.\u001b[K\n",
      "remote: Total 14419 (delta 14), reused 21 (delta 10), pack-reused 14379\u001b[K\n",
      "Receiving objects: 100% (14419/14419), 13.34 MiB | 21.71 MiB/s, done.\n",
      "Resolving deltas: 100% (9965/9965), done.\n",
      "/home/fernando/code/danielcerdae/smart-reader/notebooks/yolov5\n",
      "\n",
      "\u001b[1m[\u001b[0m\u001b[34;49mnotice\u001b[0m\u001b[1;39;49m]\u001b[0m\u001b[39;49m A new release of pip available: \u001b[0m\u001b[31;49m22.2.2\u001b[0m\u001b[39;49m -> \u001b[0m\u001b[32;49m22.3\u001b[0m\n",
      "\u001b[1m[\u001b[0m\u001b[34;49mnotice\u001b[0m\u001b[1;39;49m]\u001b[0m\u001b[39;49m To update, run: \u001b[0m\u001b[32;49mpython -m pip install --upgrade pip\u001b[0m\n",
      "Note: you may need to restart the kernel to use updated packages.\n",
      "\n",
      "\u001b[1m[\u001b[0m\u001b[34;49mnotice\u001b[0m\u001b[1;39;49m]\u001b[0m\u001b[39;49m A new release of pip available: \u001b[0m\u001b[31;49m22.2.2\u001b[0m\u001b[39;49m -> \u001b[0m\u001b[32;49m22.3\u001b[0m\n",
      "\u001b[1m[\u001b[0m\u001b[34;49mnotice\u001b[0m\u001b[1;39;49m]\u001b[0m\u001b[39;49m To update, run: \u001b[0m\u001b[32;49mpython -m pip install --upgrade pip\u001b[0m\n",
      "Note: you may need to restart the kernel to use updated packages.\n"
     ]
    },
    {
     "name": "stderr",
     "output_type": "stream",
     "text": [
      "/home/fernando/.pyenv/versions/3.8.12/envs/smart-reader/lib/python3.8/site-packages/tqdm/auto.py:22: TqdmWarning: IProgress not found. Please update jupyter and ipywidgets. See https://ipywidgets.readthedocs.io/en/stable/user_install.html\n",
      "  from .autonotebook import tqdm as notebook_tqdm\n"
     ]
    },
    {
     "name": "stdout",
     "output_type": "stream",
     "text": [
      "Setup complete. Using torch 1.12.1+cu102 (CPU)\n"
     ]
    }
   ],
   "source": [
    "!git clone https://github.com/ultralytics/yolov5  # clone repo\n",
    "%cd yolov5\n",
    "%pip install -qr requirements.txt # install dependencies\n",
    "%pip install -q roboflow\n",
    "\n",
    "import torch\n",
    "import os\n",
    "from IPython.display import Image, clear_output  # to display images\n",
    "\n",
    "print(f\"Setup complete. Using torch {torch.__version__} ({torch.cuda.get_device_properties(0).name if torch.cuda.is_available() else 'CPU'})\")"
   ]
  },
  {
   "cell_type": "markdown",
   "id": "19257b7c",
   "metadata": {},
   "source": [
    "## Cargar imagenes y definición de label en RoboFlow"
   ]
  },
  {
   "cell_type": "markdown",
   "id": "f9fb3e7c",
   "metadata": {},
   "source": [
    "### set up environment"
   ]
  },
  {
   "cell_type": "code",
   "execution_count": null,
   "id": "7e0a8d6f",
   "metadata": {},
   "outputs": [],
   "source": [
    "os.environ[\"DATASET_DIRECTORY\"] = \"/content/datasets\""
   ]
  },
  {
   "cell_type": "markdown",
   "id": "c081009e",
   "metadata": {},
   "source": [
    "### after following the link above, recieve python code with these fields filled in\n"
   ]
  },
  {
   "cell_type": "code",
   "execution_count": null,
   "id": "268a50e3",
   "metadata": {},
   "outputs": [],
   "source": [
    "from roboflow import Roboflow\n",
    "rf = Roboflow(api_key=\"UcSCH9Io27kogOQ4jyVE\")\n",
    "project = rf.workspace(\"daniel-cerda-mwswd\").project(\"le-wagon-ds-batch-915-engineering-drawings-smart-reader\")\n",
    "dataset = project.version(11).download(\"yolov5\")"
   ]
  },
  {
   "cell_type": "markdown",
   "id": "d2101fb9",
   "metadata": {},
   "source": [
    "## Obtención de pesos desde Roboflow"
   ]
  },
  {
   "cell_type": "code",
   "execution_count": null,
   "id": "a1b3641d",
   "metadata": {},
   "outputs": [],
   "source": []
  },
  {
   "cell_type": "markdown",
   "id": "9ab6df4d",
   "metadata": {},
   "source": [
    "# Entrenamiento modelo YOLOV5"
   ]
  },
  {
   "cell_type": "code",
   "execution_count": null,
   "id": "9ee32e0e",
   "metadata": {},
   "outputs": [],
   "source": []
  }
 ],
 "metadata": {
  "kernelspec": {
   "display_name": "Python 3 (ipykernel)",
   "language": "python",
   "name": "python3"
  },
  "language_info": {
   "codemirror_mode": {
    "name": "ipython",
    "version": 3
   },
   "file_extension": ".py",
   "mimetype": "text/x-python",
   "name": "python",
   "nbconvert_exporter": "python",
   "pygments_lexer": "ipython3",
   "version": "3.8.12"
  },
  "toc": {
   "base_numbering": 1,
   "nav_menu": {},
   "number_sections": true,
   "sideBar": true,
   "skip_h1_title": false,
   "title_cell": "Table of Contents",
   "title_sidebar": "Contents",
   "toc_cell": false,
   "toc_position": {},
   "toc_section_display": true,
   "toc_window_display": false
  }
 },
 "nbformat": 4,
 "nbformat_minor": 5
}
