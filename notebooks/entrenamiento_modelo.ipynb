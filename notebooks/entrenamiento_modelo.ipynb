{
 "cells": [
  {
   "cell_type": "markdown",
   "id": "0ab892af",
   "metadata": {},
   "source": [
    "# Entrenamiento del Modelo"
   ]
  },
  {
   "cell_type": "markdown",
   "id": "240b9196",
   "metadata": {},
   "source": [
    "## Instalar Requerimientos"
   ]
  },
  {
   "cell_type": "code",
   "execution_count": null,
   "id": "b94b1e26",
   "metadata": {},
   "outputs": [],
   "source": [
    "!git clone https://github.com/ultralytics/yolov5  # clone repo\n",
    "%cd yolov5\n",
    "%pip install -qr requirements.txt # install dependencies\n",
    "%pip install -q roboflow\n",
    "\n",
    "import torch\n",
    "import os\n",
    "from IPython.display import Image, clear_output  # to display images\n",
    "\n",
    "print(f\"Setup complete. Using torch {torch.__version__} ({torch.cuda.get_device_properties(0).name if torch.cuda.is_available() else 'CPU'})\")"
   ]
  },
  {
   "cell_type": "markdown",
   "id": "02a8b8e2",
   "metadata": {},
   "source": [
    "## Creación de conjunto de datos en Roboflow y obtención de pesos"
   ]
  },
  {
   "cell_type": "markdown",
   "id": "6080408b",
   "metadata": {},
   "source": [
    "### Configurar el entorno"
   ]
  },
  {
   "cell_type": "code",
   "execution_count": null,
   "id": "2b859c7b",
   "metadata": {},
   "outputs": [],
   "source": [
    "os.environ[\"DATASET_DIRECTORY\"] = \"/content/datasets\""
   ]
  },
  {
   "cell_type": "code",
   "execution_count": null,
   "id": "1e56573a",
   "metadata": {},
   "outputs": [],
   "source": [
    "from roboflow import Roboflow\n",
    "rf = Roboflow(api_key=\"UcSCH9Io27kogOQ4jyVE\")\n",
    "project = rf.workspace(\"daniel-cerda-mwswd\").project(\"le-wagon-ds-batch-915-engineering-drawings-smart-reader\")\n",
    "dataset = project.version(11).download(\"yolov5\")"
   ]
  },
  {
   "cell_type": "markdown",
   "id": "c3bde710",
   "metadata": {},
   "source": [
    "Nota: \n",
    "\n",
    "Utilizamos la versión 11 del label generado en Roboflow\n",
    "\n",
    "Training Set: 117 imagenes\n",
    "\n",
    "Validation Set: 02 imagenes\n",
    "\n",
    "Testing: 0 imagenes\n",
    "\n",
    "Preproccesing:\n",
    "\n",
    "1.- Auto-Orient: Applied\n",
    "\n",
    "2.- Auto-Adjust Contrast: Using Adaptive Equalization\n",
    "\n",
    "Augmentations:\n",
    "\n",
    "1.- Outputs per training example: 3\n",
    "\n",
    "2.- Flip: Horizontal, Vertical\n",
    "\n",
    "3.- 90° Rotate: Clockwise, Counter-Clockwise, Upside Down"
   ]
  },
  {
   "cell_type": "markdown",
   "id": "e2baba31",
   "metadata": {},
   "source": [
    "# Entrenamiento modelo YOLOV5"
   ]
  },
  {
   "cell_type": "markdown",
   "id": "14b62ab9",
   "metadata": {},
   "source": [
    "Nota: \n",
    "\n",
    "img 1024 (Define tamaño de las imagenes de entrada)\n",
    "\n",
    "batch 8 para el modelo yolov5l6 (cuando se probó con un yolov mas antiguo se utilizó batch 16)\n",
    "\n",
    "data: Nuestro dataset está guardado en dataset.location\n",
    "\n",
    "weights: specify a path to weights to start transfer learning from.\n",
    "\n",
    "cache: Se utiliza cache images para entrenamiento rápido"
   ]
  },
  {
   "cell_type": "code",
   "execution_count": null,
   "id": "8e662774",
   "metadata": {},
   "outputs": [],
   "source": [
    "!python train.py --img 1024 --batch 8 --epochs 300 --data {dataset.location}/data.yaml --weights yolov5l6.pt --cache"
   ]
  },
  {
   "cell_type": "markdown",
   "id": "4dcb9237",
   "metadata": {},
   "source": [
    "## Ejecutar inferencia con pesos entrenados \n",
    "Run inference with a pretrained checkpoint on contents of `test/images` folder downloaded from Roboflow."
   ]
  },
  {
   "cell_type": "code",
   "execution_count": null,
   "id": "729a22a0",
   "metadata": {},
   "outputs": [],
   "source": [
    "!python detect.py --weights runs/train/exp/weights/best.pt --img 1280 --conf 0.5 --source {dataset.location}/test/images"
   ]
  },
  {
   "cell_type": "markdown",
   "id": "e0537188",
   "metadata": {},
   "source": [
    "## Visualizar inferencia en todas las imagenes TEST"
   ]
  },
  {
   "cell_type": "code",
   "execution_count": null,
   "id": "b10acfa5",
   "metadata": {},
   "outputs": [],
   "source": [
    "import glob\n",
    "from IPython.display import Image, display\n",
    "\n",
    "for imageName in glob.glob('/content/yolov5/runs/detect/exp/*.jpg'): #assuming JPG\n",
    "    display(Image(filename=imageName))\n",
    "    print(\"\\n\")"
   ]
  }
 ],
 "metadata": {
  "kernelspec": {
   "display_name": "Python 3 (ipykernel)",
   "language": "python",
   "name": "python3"
  },
  "language_info": {
   "codemirror_mode": {
    "name": "ipython",
    "version": 3
   },
   "file_extension": ".py",
   "mimetype": "text/x-python",
   "name": "python",
   "nbconvert_exporter": "python",
   "pygments_lexer": "ipython3",
   "version": "3.8.12"
  },
  "toc": {
   "base_numbering": 1,
   "nav_menu": {},
   "number_sections": true,
   "sideBar": true,
   "skip_h1_title": false,
   "title_cell": "Table of Contents",
   "title_sidebar": "Contents",
   "toc_cell": false,
   "toc_position": {},
   "toc_section_display": true,
   "toc_window_display": false
  }
 },
 "nbformat": 4,
 "nbformat_minor": 5
}
