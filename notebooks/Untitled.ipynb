{
 "cells": [
  {
   "cell_type": "code",
   "execution_count": null,
   "id": "081673eb",
   "metadata": {},
   "outputs": [],
   "source": [
    "from fastapi import File, UploadFile\n",
    "\n",
    "@app.post(\"/upload\")\n",
    "def upload(file: UploadFile = File(...)):\n",
    "    try:\n",
    "        contents = file.file.read()\n",
    "        with open(file.filename, 'wb') as f:\n",
    "            f.write(contents)\n",
    "    except Exception:\n",
    "        return {\"message\": \"There was an error uploading the file\"}\n",
    "    finally:\n",
    "        file.file.close()\n",
    "\n",
    "    return {\"message\": f\"Successfully uploaded {file.filename}\"}"
   ]
  }
 ],
 "metadata": {
  "kernelspec": {
   "display_name": "Python 3 (ipykernel)",
   "language": "python",
   "name": "python3"
  },
  "language_info": {
   "codemirror_mode": {
    "name": "ipython",
    "version": 3
   },
   "file_extension": ".py",
   "mimetype": "text/x-python",
   "name": "python",
   "nbconvert_exporter": "python",
   "pygments_lexer": "ipython3",
   "version": "3.8.12"
  },
  "toc": {
   "base_numbering": 1,
   "nav_menu": {},
   "number_sections": true,
   "sideBar": true,
   "skip_h1_title": false,
   "title_cell": "Table of Contents",
   "title_sidebar": "Contents",
   "toc_cell": false,
   "toc_position": {},
   "toc_section_display": true,
   "toc_window_display": false
  }
 },
 "nbformat": 4,
 "nbformat_minor": 5
}
